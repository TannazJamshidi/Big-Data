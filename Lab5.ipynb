{
 "cells": [
  {
   "cell_type": "code",
   "execution_count": 1,
   "id": "28de1a9f-4e7e-4c1c-ae06-70bb74ee3f32",
   "metadata": {},
   "outputs": [
    {
     "name": "stdout",
     "output_type": "stream",
     "text": [
      "Collecting graphviz\n",
      "  Using cached graphviz-0.20.1-py3-none-any.whl (47 kB)\n",
      "Installing collected packages: graphviz\n",
      "Successfully installed graphviz-0.20.1\n",
      "Note: you may need to restart the kernel to use updated packages.\n"
     ]
    }
   ],
   "source": [
    "pip install graphviz"
   ]
  },
  {
   "cell_type": "code",
   "execution_count": 2,
   "id": "367c2682-750f-4773-b39f-effb340fab74",
   "metadata": {},
   "outputs": [],
   "source": [
    "from graphframes import GraphFrame"
   ]
  },
  {
   "cell_type": "code",
   "execution_count": 3,
   "id": "7df53f20-7510-4adf-a80c-27283cd59574",
   "metadata": {},
   "outputs": [],
   "source": [
    "file_airport = '/data/students/bigdata_internet/lab5/airports.csv'"
   ]
  },
  {
   "cell_type": "code",
   "execution_count": 4,
   "id": "64b0430b-98a8-4f37-99b0-4ce5ea882a40",
   "metadata": {},
   "outputs": [],
   "source": [
    "file_airlines = '/data/students/bigdata_internet/lab5/airlines.csv'"
   ]
  },
  {
   "cell_type": "code",
   "execution_count": 5,
   "id": "cbb1747f-a0fc-4481-80a8-b43859abb79c",
   "metadata": {},
   "outputs": [],
   "source": [
    "file_routes = '/data/students/bigdata_internet/lab5/routes.csv'"
   ]
  },
  {
   "cell_type": "code",
   "execution_count": 6,
   "id": "4ab0c7d0-eae4-4c4a-b305-b5fc2df87b9c",
   "metadata": {},
   "outputs": [
    {
     "name": "stderr",
     "output_type": "stream",
     "text": [
      "                                                                                \r"
     ]
    }
   ],
   "source": [
    "airports = spark.read.load(file_airport,sep = ',',format = \"csv\",header =True , inferSchema =True)"
   ]
  },
  {
   "cell_type": "code",
   "execution_count": 7,
   "id": "41179deb-6121-480a-a0ca-e821f45897b7",
   "metadata": {},
   "outputs": [],
   "source": [
    "airlines = spark.read.load(file_airlines,sep = ',',format = \"csv\",header =True , inferSchema =True)"
   ]
  },
  {
   "cell_type": "code",
   "execution_count": 8,
   "id": "a69e198f-13aa-4df7-a33b-32ed522b636a",
   "metadata": {},
   "outputs": [],
   "source": [
    "routes = spark.read.load(file_routes,sep = ',',format = \"csv\",header =True , inferSchema =True)"
   ]
  },
  {
   "cell_type": "code",
   "execution_count": 9,
   "id": "ad4fae90-2f7d-4016-ac82-aac11ff66a2e",
   "metadata": {},
   "outputs": [],
   "source": [
    "airports.createOrReplaceTempView(\"airports\")"
   ]
  },
  {
   "cell_type": "code",
   "execution_count": 10,
   "id": "4b12fa6e-bcab-40ab-8dcc-b72eaec6ff2f",
   "metadata": {},
   "outputs": [],
   "source": [
    "#2.1 countries in the world with more than 200 airports"
   ]
  },
  {
   "cell_type": "code",
   "execution_count": 11,
   "id": "118642b1-243b-40bb-86a3-1810b72433de",
   "metadata": {},
   "outputs": [],
   "source": [
    "countries_200airport = spark.sql(\"\"\"\n",
    "SELECT country, count(id) AS countAirPort \n",
    "FROM airports \n",
    "GROUP BY country\"\"\")\\\n",
    ".filter('countAirPort > 200').orderBy('countAirPort', ascending=False)"
   ]
  },
  {
   "cell_type": "code",
   "execution_count": 12,
   "id": "457a6a12-14f8-4b1d-8406-d41b0b903429",
   "metadata": {},
   "outputs": [
    {
     "name": "stderr",
     "output_type": "stream",
     "text": [
      "[Stage 7:======================================================>(199 + 1) / 200]"
     ]
    },
    {
     "name": "stdout",
     "output_type": "stream",
     "text": [
      "+-------------+------------+\n",
      "|      country|countAirPort|\n",
      "+-------------+------------+\n",
      "|United States|        1512|\n",
      "|       Canada|         430|\n",
      "|    Australia|         334|\n",
      "|       Russia|         264|\n",
      "|       Brazil|         264|\n",
      "|      Germany|         249|\n",
      "|        China|         241|\n",
      "|       France|         217|\n",
      "+-------------+------------+\n",
      "\n"
     ]
    },
    {
     "name": "stderr",
     "output_type": "stream",
     "text": [
      "                                                                                \r"
     ]
    }
   ],
   "source": [
    "countries_200airport.show()"
   ]
  },
  {
   "cell_type": "code",
   "execution_count": 13,
   "id": "9f7d90ff-9383-47d9-aab6-ac7542a6d435",
   "metadata": {},
   "outputs": [],
   "source": [
    "routes.createOrReplaceTempView(\"airlines\")"
   ]
  },
  {
   "cell_type": "code",
   "execution_count": 14,
   "id": "6591fa28-20ba-4702-a383-e1a508f784d2",
   "metadata": {},
   "outputs": [],
   "source": [
    "#2.2 Top-5 airlines by total number of flights"
   ]
  },
  {
   "cell_type": "code",
   "execution_count": 15,
   "id": "a3699f37-4efa-4167-bb6d-b289d3ce22da",
   "metadata": {},
   "outputs": [],
   "source": [
    "Top_numFlights = spark.sql(\"\"\"\n",
    "SELECT airline_id , count(airline_id) AS numFlights \n",
    "FROM airlines \n",
    "GROUP BY airline_id\"\"\").orderBy('numFlights',ascending=False)"
   ]
  },
  {
   "cell_type": "code",
   "execution_count": 16,
   "id": "90ab2910-2da9-46a5-b3b0-a2b463509e9c",
   "metadata": {},
   "outputs": [
    {
     "name": "stderr",
     "output_type": "stream",
     "text": [
      "[Stage 9:====================================================>  (190 + 1) / 200]"
     ]
    },
    {
     "name": "stdout",
     "output_type": "stream",
     "text": [
      "+----------+----------+\n",
      "|airline_id|numFlights|\n",
      "+----------+----------+\n",
      "|      4296|      2484|\n",
      "|        24|      2354|\n",
      "|      5209|      2180|\n",
      "|      2009|      1981|\n",
      "|      5265|      1960|\n",
      "+----------+----------+\n",
      "only showing top 5 rows\n",
      "\n"
     ]
    },
    {
     "name": "stderr",
     "output_type": "stream",
     "text": [
      "                                                                                \r"
     ]
    }
   ],
   "source": [
    "top5 = Top_numFlights.show(5)"
   ]
  },
  {
   "cell_type": "code",
   "execution_count": 17,
   "id": "c914ec0b-55dc-42a6-887e-0288f7bc9ba9",
   "metadata": {},
   "outputs": [],
   "source": [
    "airline_icao = airlines.select('airline_id', 'name', 'icao')"
   ]
  },
  {
   "cell_type": "code",
   "execution_count": 18,
   "id": "6fe0b25a-8bdf-4257-93f6-1a1f5598ac10",
   "metadata": {},
   "outputs": [],
   "source": [
    "#2.2 Top 10 airlines with airline name, airline icao code and number of flights"
   ]
  },
  {
   "cell_type": "code",
   "execution_count": 19,
   "id": "8a1ef763-90ea-4b54-92b4-7e3222ecce0e",
   "metadata": {},
   "outputs": [
    {
     "name": "stderr",
     "output_type": "stream",
     "text": [
      "[Stage 14:===================================================>  (190 + 1) / 200]"
     ]
    },
    {
     "name": "stdout",
     "output_type": "stream",
     "text": [
      "+----------+--------------------+----+----------+\n",
      "|airline_id|                name|icao|numFlights|\n",
      "+----------+--------------------+----+----------+\n",
      "|      4296|             Ryanair| RYR|      2484|\n",
      "|        24|   American Airlines| AAL|      2354|\n",
      "|      5209|     United Airlines| UAL|      2180|\n",
      "|      2009|     Delta Air Lines| DAL|      1981|\n",
      "|      5265|          US Airways| USA|      1960|\n",
      "|      1767|China Southern Ai...| CSN|      1454|\n",
      "|      1758|China Eastern Air...| CES|      1263|\n",
      "|       751|           Air China| CCA|      1260|\n",
      "|      4547|  Southwest Airlines| SWA|      1146|\n",
      "|      2297|             easyJet| EZY|      1130|\n",
      "+----------+--------------------+----+----------+\n",
      "only showing top 10 rows\n",
      "\n"
     ]
    },
    {
     "name": "stderr",
     "output_type": "stream",
     "text": [
      "                                                                                \r"
     ]
    }
   ],
   "source": [
    "top_10airlines = airline_icao.join(Top_numFlights, on='airline_id', how='inner')\n",
    "top_10airlines.show(10)"
   ]
  },
  {
   "cell_type": "code",
   "execution_count": 20,
   "id": "af37340f-de8d-4ff8-971a-3daf3ae10d66",
   "metadata": {},
   "outputs": [],
   "source": [
    "topRoutes = spark.sql(\"\"\"\n",
    "    SELECT\n",
    "        airport_source,\n",
    "        airport_destination,\n",
    "        airport_source_id,\n",
    "        airport_destination_id,\n",
    "        COUNT(*) AS count\n",
    "    FROM\n",
    "        airlines\n",
    "    GROUP BY\n",
    "        airport_source,\n",
    "        airport_destination,\n",
    "        airport_source_id,\n",
    "        airport_destination_id\n",
    "\"\"\").orderBy('count',ascending=False)"
   ]
  },
  {
   "cell_type": "code",
   "execution_count": 21,
   "id": "9ccdbc89-e674-4401-8454-07b2836c6b2d",
   "metadata": {},
   "outputs": [],
   "source": [
    "from pyspark.sql.functions import col"
   ]
  },
  {
   "cell_type": "code",
   "execution_count": 22,
   "id": "cfa3d0e1-60fb-4bc8-8a8b-3850c62db666",
   "metadata": {},
   "outputs": [],
   "source": [
    "airportsourcename = airports.select(\n",
    "    col('id').alias('airport_source_id'),\n",
    "    col('name').alias('source_name'),\n",
    "    col('city').alias('source_city')\n",
    ")"
   ]
  },
  {
   "cell_type": "code",
   "execution_count": 23,
   "id": "4fbac223-a44f-499d-9299-b542fd99fd08",
   "metadata": {},
   "outputs": [],
   "source": [
    "airportdestname = airports.select(\n",
    "    col('id').alias('airport_destination_id'),\n",
    "    col('name').alias('destination_name'),\n",
    "    col('city').alias('destination_city')\n",
    ")"
   ]
  },
  {
   "cell_type": "code",
   "execution_count": 24,
   "id": "60a94391-6932-454f-a795-9c220325ae99",
   "metadata": {},
   "outputs": [],
   "source": [
    "joiningSource = topRoutes.join(airportsourcename, on='airport_source_id', how='inner')"
   ]
  },
  {
   "cell_type": "code",
   "execution_count": 25,
   "id": "aeedd400-69b9-4889-ac31-857aa4d72492",
   "metadata": {},
   "outputs": [],
   "source": [
    "joiningDest = joiningSource.join(airportdestname, on='airport_destination_id', how='inner')"
   ]
  },
  {
   "cell_type": "code",
   "execution_count": 26,
   "id": "a582ca91-0177-4625-908d-8199497aaf59",
   "metadata": {},
   "outputs": [],
   "source": [
    "favoriteRoutes = joiningDest.select('source_name','source_city','destination_name','destination_city','count')"
   ]
  },
  {
   "cell_type": "code",
   "execution_count": 27,
   "id": "8db20921-502f-47bc-a926-30aff89f947a",
   "metadata": {},
   "outputs": [],
   "source": [
    "#2.3 Top-5 routes in the world in descending order"
   ]
  },
  {
   "cell_type": "code",
   "execution_count": 28,
   "id": "3b0d2927-4eff-47bc-8411-7405ba0c6181",
   "metadata": {},
   "outputs": [
    {
     "name": "stderr",
     "output_type": "stream",
     "text": [
      "[Stage 24:====================================================> (194 + 1) / 200]"
     ]
    },
    {
     "name": "stdout",
     "output_type": "stream",
     "text": [
      "+------------------------------------------------+-----------+-------------------------------------------------+----------------+-----+\n",
      "|source_name                                     |source_city|destination_name                                 |destination_city|count|\n",
      "+------------------------------------------------+-----------+-------------------------------------------------+----------------+-----+\n",
      "|Chicago O'Hare International Airport            |Chicago    |Hartsfield Jackson Atlanta International Airport |Atlanta         |20   |\n",
      "|Hartsfield Jackson Atlanta International Airport|Atlanta    |Chicago O'Hare International Airport             |Chicago         |19   |\n",
      "|Phuket International Airport                    |Phuket     |Suvarnabhumi Airport                             |Bangkok         |13   |\n",
      "|Chicago O'Hare International Airport            |Chicago    |Louis Armstrong New Orleans International Airport|New Orleans     |13   |\n",
      "|Hong Kong International Airport                 |Hong Kong  |Suvarnabhumi Airport                             |Bangkok         |12   |\n",
      "+------------------------------------------------+-----------+-------------------------------------------------+----------------+-----+\n",
      "only showing top 5 rows\n",
      "\n"
     ]
    },
    {
     "name": "stderr",
     "output_type": "stream",
     "text": [
      "                                                                                \r"
     ]
    }
   ],
   "source": [
    "favoriteRoutes.show(5,truncate = False)   "
   ]
  },
  {
   "cell_type": "code",
   "execution_count": 29,
   "id": "ea222222-5135-4260-8754-fde940d754d0",
   "metadata": {},
   "outputs": [
    {
     "data": {
      "text/plain": [
       "67663"
      ]
     },
     "execution_count": 29,
     "metadata": {},
     "output_type": "execute_result"
    }
   ],
   "source": [
    "routes.count()"
   ]
  },
  {
   "cell_type": "code",
   "execution_count": 30,
   "id": "4766b62f-5efb-4683-ab24-577a852f258b",
   "metadata": {},
   "outputs": [],
   "source": [
    "Cleanroutes = routes.filter((routes['airport_source_id'] != '\\\\N') & (routes['airport_destination_id'] != '\\\\N'))"
   ]
  },
  {
   "cell_type": "code",
   "execution_count": 31,
   "id": "2f846521-da01-4f7a-b5b9-14225a25abdd",
   "metadata": {},
   "outputs": [],
   "source": [
    "#3.1 423 lines are filtered out"
   ]
  },
  {
   "cell_type": "code",
   "execution_count": 32,
   "id": "5ea89022-7cc5-4739-b513-e52b0ff99de9",
   "metadata": {},
   "outputs": [
    {
     "data": {
      "text/plain": [
       "67240"
      ]
     },
     "execution_count": 32,
     "metadata": {},
     "output_type": "execute_result"
    }
   ],
   "source": [
    "Cleanroutes.count()   "
   ]
  },
  {
   "cell_type": "code",
   "execution_count": 33,
   "id": "c544f389-d946-47cb-b9e6-180e4d40ee8c",
   "metadata": {},
   "outputs": [],
   "source": [
    "v = airports.select('id','name')"
   ]
  },
  {
   "cell_type": "code",
   "execution_count": 34,
   "id": "fcb29f71-64d7-4439-99b5-3bf0821abbf5",
   "metadata": {},
   "outputs": [],
   "source": [
    "v = v.withColumn(\"id\", v.id.cast(\"string\"))"
   ]
  },
  {
   "cell_type": "code",
   "execution_count": 35,
   "id": "fa94cfac-f7b0-4b64-bd92-f875b42b8922",
   "metadata": {},
   "outputs": [],
   "source": [
    "e = Cleanroutes.select(col('airport_source_id').alias('src'),col('airport_destination_id').alias('dst'))"
   ]
  },
  {
   "cell_type": "code",
   "execution_count": 36,
   "id": "59def8bc-865f-46bd-9d2c-56eaede83dc8",
   "metadata": {},
   "outputs": [],
   "source": [
    "e = e.withColumn(\"src\", e.src.cast(\"string\")).withColumn(\"dst\", e.dst.cast(\"string\"))"
   ]
  },
  {
   "cell_type": "code",
   "execution_count": 37,
   "id": "e48b14b4-3f0d-4c64-87a8-caf882ff0ac3",
   "metadata": {},
   "outputs": [],
   "source": [
    "g = GraphFrame(v, e)"
   ]
  },
  {
   "cell_type": "code",
   "execution_count": 38,
   "id": "77249921-b212-4746-95bd-8ccabf37c6fd",
   "metadata": {},
   "outputs": [],
   "source": [
    "gDeg=g.inDegrees"
   ]
  },
  {
   "cell_type": "code",
   "execution_count": 39,
   "id": "5c85f1cd-6df7-4190-a31a-5ab33b5c44f9",
   "metadata": {},
   "outputs": [],
   "source": [
    "gOut=g.outDegrees"
   ]
  },
  {
   "cell_type": "code",
   "execution_count": 40,
   "id": "bdb82d05-e9cb-4907-911e-712f6f58effa",
   "metadata": {},
   "outputs": [],
   "source": [
    "djoin=gOut.join(gDeg,on = 'id',how= 'inner')"
   ]
  },
  {
   "cell_type": "code",
   "execution_count": 41,
   "id": "c45affed-e616-42e5-9e9a-ccf37eca2a71",
   "metadata": {},
   "outputs": [],
   "source": [
    "ratio_df = djoin.withColumn(\"out_in_ratio\", col(\"outDegree\") / col(\"inDegree\"))"
   ]
  },
  {
   "cell_type": "code",
   "execution_count": 42,
   "id": "052c6830-8d59-4e06-bade-6f8fe1312fe1",
   "metadata": {},
   "outputs": [],
   "source": [
    "rDec = ratio_df.orderBy('out_in_ratio',ascending=False)"
   ]
  },
  {
   "cell_type": "code",
   "execution_count": 43,
   "id": "e72c7dc5-bbbc-4e50-9cb8-b64b096be9b9",
   "metadata": {},
   "outputs": [],
   "source": [
    "ap = airports.select(col('id').cast('string').alias('id'), 'name')"
   ]
  },
  {
   "cell_type": "code",
   "execution_count": 44,
   "id": "624a037b-defe-4b90-b932-260c4b8897b4",
   "metadata": {},
   "outputs": [],
   "source": [
    "idNameRatio = rDec.join(ap, on = 'id',how = 'inner')"
   ]
  },
  {
   "cell_type": "code",
   "execution_count": 45,
   "id": "84b948ff-2adc-4619-abcc-30c23d515f16",
   "metadata": {},
   "outputs": [],
   "source": [
    "topFiveRatio = idNameRatio.orderBy('out_in_ratio',ascending = False)"
   ]
  },
  {
   "cell_type": "code",
   "execution_count": 46,
   "id": "61f795b1-bde7-4c5d-ac7f-bade24d62ea4",
   "metadata": {},
   "outputs": [],
   "source": [
    "top5WithName = topFiveRatio.selectExpr('name','inDegree as edgeIn','outDegree as edgeOut','out_in_ratio as ratio','id')\n",
    "#4.1 the highest ratio of outgoing edges overincoming ones"
   ]
  },
  {
   "cell_type": "code",
   "execution_count": 47,
   "id": "7d51621d-a78a-4538-a611-ece1e35fa816",
   "metadata": {},
   "outputs": [
    {
     "name": "stderr",
     "output_type": "stream",
     "text": [
      "[Stage 37:=================================================>    (146 + 2) / 160]"
     ]
    },
    {
     "name": "stdout",
     "output_type": "stream",
     "text": [
      "+----------------------------------------------+------+-------+-----+----+\n",
      "|name                                          |edgeIn|edgeOut|ratio|id  |\n",
      "+----------------------------------------------+------+-------+-----+----+\n",
      "|Bunia Airport                                 |1     |3      |3.0  |1033|\n",
      "|Pikangikum Airport                            |2     |5      |2.5  |5521|\n",
      "|Transilvania Târgu Mureş International Airport|2     |5      |2.5  |1662|\n",
      "|Ivalo Airport                                 |1     |2      |2.0  |428 |\n",
      "|Bahir Dar Airport                             |1     |2      |2.0  |1111|\n",
      "+----------------------------------------------+------+-------+-----+----+\n",
      "only showing top 5 rows\n",
      "\n"
     ]
    },
    {
     "name": "stderr",
     "output_type": "stream",
     "text": [
      "                                                                                \r"
     ]
    }
   ],
   "source": [
    "top5WithName.show(5,truncate = False)"
   ]
  },
  {
   "cell_type": "code",
   "execution_count": 48,
   "id": "c1de71fa-ba15-4955-a601-120f63604f27",
   "metadata": {},
   "outputs": [
    {
     "name": "stderr",
     "output_type": "stream",
     "text": [
      "                                                                                \r"
     ]
    }
   ],
   "source": [
    "oneflightfromTO = g.bfs(fromExpr=\"id = '1526'\", toExpr=\"id != '1526'\").distinct()"
   ]
  },
  {
   "cell_type": "code",
   "execution_count": 49,
   "id": "d8a6a680-c44f-4dc8-a649-8fa85914a3ed",
   "metadata": {},
   "outputs": [
    {
     "name": "stderr",
     "output_type": "stream",
     "text": [
      "[Stage 47:====================================================> (194 + 1) / 200]"
     ]
    },
    {
     "name": "stdout",
     "output_type": "stream",
     "text": [
      "29\n"
     ]
    },
    {
     "name": "stderr",
     "output_type": "stream",
     "text": [
      "                                                                                \r"
     ]
    }
   ],
   "source": [
    "print(oneflightfromTO.count())  #4.2.1 number of airports you can reach from the city of \"Torino\" taking exactly 1flight"
   ]
  },
  {
   "cell_type": "code",
   "execution_count": 50,
   "id": "964a3f97-d2a0-4a86-b496-4d7286ae8fde",
   "metadata": {},
   "outputs": [
    {
     "name": "stderr",
     "output_type": "stream",
     "text": [
      "                                                                                \r"
     ]
    }
   ],
   "source": [
    "oneflighttoTO =g.bfs(fromExpr=\"id != '1526'\", toExpr=\"id = '1526'\").distinct()"
   ]
  },
  {
   "cell_type": "code",
   "execution_count": 51,
   "id": "a3759119-2f86-49fb-88da-bfbe869b07a8",
   "metadata": {},
   "outputs": [
    {
     "name": "stderr",
     "output_type": "stream",
     "text": [
      "[Stage 58:=====================================================>(199 + 1) / 200]"
     ]
    },
    {
     "name": "stdout",
     "output_type": "stream",
     "text": [
      "29\n"
     ]
    },
    {
     "name": "stderr",
     "output_type": "stream",
     "text": [
      "                                                                                \r"
     ]
    }
   ],
   "source": [
    "print(oneflighttoTO.count())  \n",
    "#4.2.2 number of airports you can reach the city of \"Torino\" taking exactly1 flight\n",
    "#The number of incoming edges and the number of outgoing edges are equal for Torino, it implies that Torino \n",
    "#is well-connected with other airports in terms of both arriving and departing flights."
   ]
  },
  {
   "cell_type": "code",
   "execution_count": 54,
   "id": "f985c37f-89c4-4646-a8e8-328576710d74",
   "metadata": {},
   "outputs": [],
   "source": [
    "chain2 = g.find(\"(v1)-[e1]->(v2); (v2)-[e2]->(v3)\").filter(col('v1')['id'] == '1526').select('v3').distinct()"
   ]
  },
  {
   "cell_type": "code",
   "execution_count": 55,
   "id": "ab14d5e1-0557-4cc7-b47f-396c6f015fae",
   "metadata": {},
   "outputs": [
    {
     "name": "stderr",
     "output_type": "stream",
     "text": [
      "                                                                                \r"
     ]
    },
    {
     "data": {
      "text/plain": [
       "590"
      ]
     },
     "execution_count": 55,
     "metadata": {},
     "output_type": "execute_result"
    }
   ],
   "source": [
    "chain2.count()  #4.3 number of airports you can reach from the city of \"Torino\" taking exactly 2flight"
   ]
  },
  {
   "cell_type": "code",
   "execution_count": 56,
   "id": "6a11b87d-1c63-4d15-ae1f-5f0c52aaded8",
   "metadata": {},
   "outputs": [
    {
     "name": "stderr",
     "output_type": "stream",
     "text": [
      "                                                                                \r"
     ]
    }
   ],
   "source": [
    "to_to = g.shortestPaths(landmarks=['1526'])"
   ]
  },
  {
   "cell_type": "code",
   "execution_count": 57,
   "id": "6bf327b9-68d6-4982-ac17-05898ecb1111",
   "metadata": {},
   "outputs": [],
   "source": [
    "from pyspark.sql.functions import expr, size"
   ]
  },
  {
   "cell_type": "code",
   "execution_count": 80,
   "id": "874d5409-55df-49ae-9493-b6b6e0cd6b1b",
   "metadata": {},
   "outputs": [
    {
     "name": "stderr",
     "output_type": "stream",
     "text": [
      "                                                                                \r"
     ]
    }
   ],
   "source": [
    "to_LA = g.shortestPaths(landmarks=['3484'])"
   ]
  },
  {
   "cell_type": "code",
   "execution_count": 81,
   "id": "b48e26fa-98c3-44ca-84a1-d0bfa735373a",
   "metadata": {},
   "outputs": [],
   "source": [
    "vertices_and_edge_LA = to_LA.select(\"id\", \"distances\").\\\n",
    "    withColumn(\"num_edges_LA\", expr(\"filter(map_values(distances), distance -> distance > 0)\"))"
   ]
  },
  {
   "cell_type": "code",
   "execution_count": 82,
   "id": "101ef8b8-87d3-4648-af1e-f5356d8ef627",
   "metadata": {},
   "outputs": [],
   "source": [
    "vertices_and_edge_to = to_to.select(\"id\", \"distances\").\\\n",
    "    withColumn(\"num_edges_to\", expr(\"filter(map_values(distances), distance -> distance > 0)\"))"
   ]
  },
  {
   "cell_type": "code",
   "execution_count": 83,
   "id": "d1ac5d05-6375-4f95-8abd-47cdc80c3b0f",
   "metadata": {},
   "outputs": [],
   "source": [
    "join_la_to= vertices_and_edge_to.join(vertices_and_edge_LA, \"id\")"
   ]
  },
  {
   "cell_type": "code",
   "execution_count": 84,
   "id": "8749b02c-8acb-46bd-a5c1-9ba3d1ffed3d",
   "metadata": {},
   "outputs": [],
   "source": [
    "df_with_int = join_la_to.withColumn(\"int_value\", col(\"num_edges_LA\")[0].cast(\"int\"))"
   ]
  },
  {
   "cell_type": "code",
   "execution_count": 85,
   "id": "fb451d3b-ad9a-4e41-a19d-06cc9ff7fc12",
   "metadata": {},
   "outputs": [],
   "source": [
    "final = df_with_int.withColumn(\"int_value2\", col(\"num_edges_TO\")[0].cast(\"int\"))"
   ]
  },
  {
   "cell_type": "code",
   "execution_count": 86,
   "id": "6e17d1c7-a8ef-4c44-b148-baf1a7117e72",
   "metadata": {},
   "outputs": [],
   "source": [
    "ff = final.filter(\"int_value is not null and int_value2 is not null\")"
   ]
  },
  {
   "cell_type": "code",
   "execution_count": 87,
   "id": "ad31603f-6081-494a-b66c-9565db6cb933",
   "metadata": {},
   "outputs": [],
   "source": [
    "LAlessThanTO = ff.filter(\"int_value < int_value2\")"
   ]
  },
  {
   "cell_type": "code",
   "execution_count": 88,
   "id": "201e0130-22c9-49aa-8910-a51495423ac1",
   "metadata": {},
   "outputs": [
    {
     "name": "stderr",
     "output_type": "stream",
     "text": [
      "                                                                                \r"
     ]
    },
    {
     "data": {
      "text/plain": [
       "1830"
      ]
     },
     "execution_count": 88,
     "metadata": {},
     "output_type": "execute_result"
    }
   ],
   "source": [
    "LAlessThanTO.count()  #4.4.1 number of airports in the world you can reach \"Los AngelesInternational Airport\" using less hops\n",
    "#than to reach the city of Torino"
   ]
  },
  {
   "cell_type": "code",
   "execution_count": 89,
   "id": "794c8cb2-c8c2-4851-9092-ef9774a3c4ee",
   "metadata": {},
   "outputs": [],
   "source": [
    "TolessThanLA =ff.filter(\"int_value > int_value2\")"
   ]
  },
  {
   "cell_type": "code",
   "execution_count": 90,
   "id": "b0ee9a19-2e4a-4d54-9136-caf5f10aae95",
   "metadata": {},
   "outputs": [
    {
     "name": "stderr",
     "output_type": "stream",
     "text": [
      "                                                                                \r"
     ]
    },
    {
     "data": {
      "text/plain": [
       "93"
      ]
     },
     "execution_count": 90,
     "metadata": {},
     "output_type": "execute_result"
    }
   ],
   "source": [
    "TolessThanLA.count()  #4.4.2 number of airports in the world you can reach the city of Torino \"Los AngelesInternational Airport\" using less hops\n",
    "#than to reach the city of Torino"
   ]
  },
  {
   "cell_type": "code",
   "execution_count": 91,
   "id": "7a98960f-70b2-45fd-9f88-4ce7892d09d3",
   "metadata": {},
   "outputs": [],
   "source": [
    "sameNum = ff.filter(\"int_value == int_value2\")"
   ]
  },
  {
   "cell_type": "code",
   "execution_count": 92,
   "id": "56e43c4e-e02e-4c46-be67-5611f1ad2d9b",
   "metadata": {},
   "outputs": [
    {
     "name": "stderr",
     "output_type": "stream",
     "text": [
      "                                                                                \r"
     ]
    },
    {
     "data": {
      "text/plain": [
       "1244"
      ]
     },
     "execution_count": 92,
     "metadata": {},
     "output_type": "execute_result"
    }
   ],
   "source": [
    "sameNum.count()  #4.4.3 airports in the world you can reach with the same numberof hops Torino and \"Los Angeles International Airport"
   ]
  },
  {
   "cell_type": "code",
   "execution_count": 97,
   "id": "3c19655f-34d1-4994-a137-377f2f98d069",
   "metadata": {},
   "outputs": [
    {
     "name": "stderr",
     "output_type": "stream",
     "text": [
      "24/03/13 09:01:46 WARN spark.SparkContext: Spark is not running in local mode, therefore the checkpoint directory must not be on the local filesystem. Directory '/user/s310279/lab5/tmp_ckpts' appears to be on the local filesystem.\n"
     ]
    }
   ],
   "source": [
    "sc.setCheckpointDir(\"/user/s310279/lab5/tmp_ckpts\")"
   ]
  },
  {
   "cell_type": "code",
   "execution_count": 98,
   "id": "ccaac8f9-2446-4258-9741-eeb4595d224e",
   "metadata": {},
   "outputs": [
    {
     "name": "stderr",
     "output_type": "stream",
     "text": [
      "24/03/13 09:01:47 WARN execution.CacheManager: Asked to cache already cached data.\n",
      "24/03/13 09:01:47 WARN execution.CacheManager: Asked to cache already cached data.\n",
      "24/03/13 09:01:48 WARN execution.CacheManager: Asked to cache already cached data.\n",
      "24/03/13 09:01:48 WARN execution.CacheManager: Asked to cache already cached data.\n",
      "24/03/13 09:01:48 WARN execution.CacheManager: Asked to cache already cached data.\n",
      "24/03/13 09:01:50 WARN execution.CacheManager: Asked to cache already cached data.\n",
      "24/03/13 09:01:50 WARN execution.CacheManager: Asked to cache already cached data.\n",
      "24/03/13 09:01:50 WARN execution.CacheManager: Asked to cache already cached data.\n",
      "                                                                                \r"
     ]
    }
   ],
   "source": [
    "connComp=g.connectedComponents()"
   ]
  },
  {
   "cell_type": "code",
   "execution_count": 99,
   "id": "238b7af8-c3bc-474f-9f3a-ebe605873a37",
   "metadata": {},
   "outputs": [
    {
     "data": {
      "text/plain": [
       "DataFrame[id: string, name: string, component: bigint]"
      ]
     },
     "execution_count": 99,
     "metadata": {},
     "output_type": "execute_result"
    }
   ],
   "source": [
    "connComp.orderBy(\"component\")"
   ]
  },
  {
   "cell_type": "code",
   "execution_count": 100,
   "id": "c6376c2d-ec9f-4a40-9839-5c22a908432b",
   "metadata": {},
   "outputs": [],
   "source": [
    "connComp.createOrReplaceTempView(\"comp\")"
   ]
  },
  {
   "cell_type": "code",
   "execution_count": 101,
   "id": "128d2213-d880-4df3-be1e-98bad659f34b",
   "metadata": {},
   "outputs": [],
   "source": [
    "sizeComp = spark.sql(\"SELECT component, COUNT(*) as count FROM comp GROUP BY component\")"
   ]
  },
  {
   "cell_type": "code",
   "execution_count": 102,
   "id": "4eea89ec-4fc4-4803-a9c6-6717d824724f",
   "metadata": {},
   "outputs": [
    {
     "name": "stderr",
     "output_type": "stream",
     "text": [
      "                                                                                \r"
     ]
    },
    {
     "name": "stdout",
     "output_type": "stream",
     "text": [
      "+-------------+-----+\n",
      "|    component|count|\n",
      "+-------------+-----+\n",
      "| 266287972371|    4|\n",
      "| 352187318292|    4|\n",
      "| 721554505752|    2|\n",
      "|1460288880657|    2|\n",
      "| 300647710730|   10|\n",
      "|           11| 3188|\n",
      "|           23|    4|\n",
      "+-------------+-----+\n",
      "\n"
     ]
    }
   ],
   "source": [
    "sizeComp.filter(\"count>1\").show()  #4.5 connected components and their size"
   ]
  },
  {
   "cell_type": "code",
   "execution_count": 103,
   "id": "a5baf0a5-0576-414f-b370-1fcb67a31e91",
   "metadata": {},
   "outputs": [
    {
     "name": "stderr",
     "output_type": "stream",
     "text": [
      "                                                                                \r"
     ]
    },
    {
     "data": {
      "text/plain": [
       "7"
      ]
     },
     "execution_count": 103,
     "metadata": {},
     "output_type": "execute_result"
    }
   ],
   "source": [
    "sizeComp.filter(\"count>1\").count()  #4.5 number of connected components"
   ]
  },
  {
   "cell_type": "code",
   "execution_count": 104,
   "id": "cc604423-7d0f-4154-b425-ed6093b7cc8b",
   "metadata": {},
   "outputs": [],
   "source": [
    "#4.6 the subgraph of the flights that are performed by twodifferent airlines (identified by the ICAO), each involving at least 5 cities."
   ]
  },
  {
   "cell_type": "code",
   "execution_count": 110,
   "id": "8b5382b1-62d8-46f3-802b-d8d24f1339f9",
   "metadata": {},
   "outputs": [],
   "source": [
    "icao_joined = Cleanroutes.join(airlines, Cleanroutes.airline_id == airlines.airline_id).select(\n",
    "    Cleanroutes['airport_source_id'].alias('src'),\n",
    "    Cleanroutes['airport_destination_id'].alias('dst'),\n",
    "    airlines['airline_id'],\n",
    "    airlines['icao'].alias('icao'),\n",
    "    airlines['name'].alias('airline_name')\n",
    ")"
   ]
  },
  {
   "cell_type": "code",
   "execution_count": 111,
   "id": "02198616-cecc-407a-982c-8205a6616559",
   "metadata": {},
   "outputs": [],
   "source": [
    "icao_joined.createOrReplaceTempView('icao_joined')"
   ]
  },
  {
   "cell_type": "code",
   "execution_count": 112,
   "id": "c72b3059-979e-4199-9b32-748532b1fcef",
   "metadata": {},
   "outputs": [],
   "source": [
    "e_icao =spark.sql('select src,dst,icao,airline_name from icao_joined where icao = \"KOR\" or icao =\"VKH\" ')"
   ]
  },
  {
   "cell_type": "code",
   "execution_count": 113,
   "id": "1e39ae60-34de-494b-9989-aba1a5bd5338",
   "metadata": {},
   "outputs": [],
   "source": [
    "v_cities = airports.select(\"id\",\"city\")"
   ]
  },
  {
   "cell_type": "code",
   "execution_count": 114,
   "id": "a49c9c9d-ad22-4a37-9f91-a964a940d071",
   "metadata": {},
   "outputs": [],
   "source": [
    "g_icao = GraphFrame(v_cities,e_icao)"
   ]
  },
  {
   "cell_type": "code",
   "execution_count": 115,
   "id": "d35dc6d8-93ee-4159-8bfb-89b68669f36e",
   "metadata": {},
   "outputs": [],
   "source": [
    "g_final = g_icao.dropIsolatedVertices()"
   ]
  },
  {
   "cell_type": "code",
   "execution_count": 116,
   "id": "29980852-fb11-4ee2-b49e-b0b0683b1cb8",
   "metadata": {},
   "outputs": [],
   "source": [
    "testCity=icao_joined.join(airports,icao_joined.airline_id ==airports.id ).select(icao_joined['icao'],airports['city'])"
   ]
  },
  {
   "cell_type": "code",
   "execution_count": 117,
   "id": "a020ef66-2afa-409d-82df-6fd8622bfb66",
   "metadata": {},
   "outputs": [],
   "source": [
    "testCity.createOrReplaceTempView('testCity')"
   ]
  },
  {
   "cell_type": "code",
   "execution_count": 118,
   "id": "2798dcd4-7e70-4bc9-904a-160a7c66cf2e",
   "metadata": {},
   "outputs": [],
   "source": [
    "#to find icao that involve 8 cities(more than 5)\n",
    "testCity2 = spark.sql('''\n",
    "SELECT icao ,COUNT(city)\n",
    "FROM testCity\n",
    "GROUP BY icao\n",
    "HAVING COUNT(city) = 8''')"
   ]
  },
  {
   "cell_type": "code",
   "execution_count": 119,
   "id": "28465509-8af9-4ec0-a899-1e9d941b378f",
   "metadata": {},
   "outputs": [],
   "source": [
    "import networkx as nx"
   ]
  },
  {
   "cell_type": "code",
   "execution_count": 120,
   "id": "ab3b2535-3180-469e-a130-b6e9d3126fd9",
   "metadata": {},
   "outputs": [],
   "source": [
    "from graphviz import Digraph\n",
    "def vizGraph(edge_list,node_list):\n",
    "    Gplot=Digraph()\n",
    "    edges=edge_list.collect()\n",
    "    nodes=node_list.collect()\n",
    "    for row in edges:\n",
    "        Gplot.edge(str(row['src']),row['dst'],label=str(row['icao']))\n",
    "    for row in nodes:\n",
    "        Gplot.node(str(row['id']),label=str(row['city']))\n",
    "    return Gplot"
   ]
  },
  {
   "cell_type": "code",
   "execution_count": 121,
   "id": "d597539d-9438-4598-98ea-56a596ddf21f",
   "metadata": {},
   "outputs": [
    {
     "name": "stderr",
     "output_type": "stream",
     "text": [
      "                                                                                \r"
     ]
    }
   ],
   "source": [
    "Gplot=vizGraph(g_final.edges,g_final.vertices)\n",
    "#Gplot \n",
    "#4.7 plot a subgraph of the flights that are performed by two different airlines \n",
    "#(identified by the ICAO), each involving at least 5 cities\n",
    "#4.6 airline Names an their icao :\n",
    "#KOR : Air Koryo\n",
    "#VKH : Viking Hellas\n"
   ]
  },
  {
   "cell_type": "code",
   "execution_count": 122,
   "id": "11d637d5-6710-44cc-a44b-396ebbe3058f",
   "metadata": {},
   "outputs": [
    {
     "data": {
      "image/svg+xml": [
       "<?xml version=\"1.0\" encoding=\"UTF-8\" standalone=\"no\"?>\n",
       "<!DOCTYPE svg PUBLIC \"-//W3C//DTD SVG 1.1//EN\"\n",
       " \"http://www.w3.org/Graphics/SVG/1.1/DTD/svg11.dtd\">\n",
       "<!-- Generated by graphviz version 2.43.0 (0)\n",
       " -->\n",
       "<!-- Title: %3 Pages: 1 -->\n",
       "<svg width=\"727pt\" height=\"218pt\"\n",
       " viewBox=\"0.00 0.00 726.74 218.00\" xmlns=\"http://www.w3.org/2000/svg\" xmlns:xlink=\"http://www.w3.org/1999/xlink\">\n",
       "<g id=\"graph0\" class=\"graph\" transform=\"scale(1 1) rotate(0) translate(4 214)\">\n",
       "<title>%3</title>\n",
       "<polygon fill=\"white\" stroke=\"transparent\" points=\"-4,4 -4,-214 722.74,-214 722.74,4 -4,4\"/>\n",
       "<!-- 3377 -->\n",
       "<g id=\"node1\" class=\"node\">\n",
       "<title>3377</title>\n",
       "<ellipse fill=\"none\" stroke=\"black\" cx=\"231.04\" cy=\"-192\" rx=\"50.09\" ry=\"18\"/>\n",
       "<text text-anchor=\"middle\" x=\"231.04\" y=\"-188.3\" font-family=\"Times,serif\" font-size=\"14.00\">Pyongyang</text>\n",
       "</g>\n",
       "<!-- 3304 -->\n",
       "<g id=\"node2\" class=\"node\">\n",
       "<title>3304</title>\n",
       "<ellipse fill=\"none\" stroke=\"black\" cx=\"63.04\" cy=\"-105\" rx=\"63.09\" ry=\"18\"/>\n",
       "<text text-anchor=\"middle\" x=\"63.04\" y=\"-101.3\" font-family=\"Times,serif\" font-size=\"14.00\">Kuala Lumpur</text>\n",
       "</g>\n",
       "<!-- 3377&#45;&gt;3304 -->\n",
       "<g id=\"edge1\" class=\"edge\">\n",
       "<title>3377&#45;&gt;3304</title>\n",
       "<path fill=\"none\" stroke=\"black\" d=\"M181.99,-188.36C134.22,-184.65 66.49,-175.93 50.04,-156 44.55,-149.34 45.03,-140.61 47.76,-132.32\"/>\n",
       "<polygon fill=\"black\" stroke=\"black\" points=\"51.06,-133.5 51.79,-122.93 44.63,-130.74 51.06,-133.5\"/>\n",
       "<text text-anchor=\"middle\" x=\"64.54\" y=\"-144.8\" font-family=\"Times,serif\" font-size=\"14.00\">KOR</text>\n",
       "</g>\n",
       "<!-- 3364 -->\n",
       "<g id=\"node3\" class=\"node\">\n",
       "<title>3364</title>\n",
       "<ellipse fill=\"none\" stroke=\"black\" cx=\"188.04\" cy=\"-105\" rx=\"36.29\" ry=\"18\"/>\n",
       "<text text-anchor=\"middle\" x=\"188.04\" y=\"-101.3\" font-family=\"Times,serif\" font-size=\"14.00\">Beijing</text>\n",
       "</g>\n",
       "<!-- 3377&#45;&gt;3364 -->\n",
       "<g id=\"edge2\" class=\"edge\">\n",
       "<title>3377&#45;&gt;3364</title>\n",
       "<path fill=\"none\" stroke=\"black\" d=\"M189.37,-181.76C175.75,-176.55 162.07,-168.47 154.04,-156 147.98,-146.58 152.88,-136.32 160.66,-127.57\"/>\n",
       "<polygon fill=\"black\" stroke=\"black\" points=\"163.36,-129.82 168.03,-120.31 158.45,-124.83 163.36,-129.82\"/>\n",
       "<text text-anchor=\"middle\" x=\"168.54\" y=\"-144.8\" font-family=\"Times,serif\" font-size=\"14.00\">KOR</text>\n",
       "</g>\n",
       "<!-- 4144 -->\n",
       "<g id=\"node4\" class=\"node\">\n",
       "<title>4144</title>\n",
       "<ellipse fill=\"none\" stroke=\"black\" cx=\"292.04\" cy=\"-105\" rx=\"45.49\" ry=\"18\"/>\n",
       "<text text-anchor=\"middle\" x=\"292.04\" y=\"-101.3\" font-family=\"Times,serif\" font-size=\"14.00\">Shenyang</text>\n",
       "</g>\n",
       "<!-- 3377&#45;&gt;4144 -->\n",
       "<g id=\"edge3\" class=\"edge\">\n",
       "<title>3377&#45;&gt;4144</title>\n",
       "<path fill=\"none\" stroke=\"black\" d=\"M238.71,-174.1C243.61,-164.07 250.46,-151.34 258.04,-141 260.96,-137.03 264.31,-133.05 267.74,-129.28\"/>\n",
       "<polygon fill=\"black\" stroke=\"black\" points=\"270.42,-131.54 274.79,-121.89 265.35,-126.71 270.42,-131.54\"/>\n",
       "<text text-anchor=\"middle\" x=\"272.54\" y=\"-144.8\" font-family=\"Times,serif\" font-size=\"14.00\">KOR</text>\n",
       "</g>\n",
       "<!-- 2934 -->\n",
       "<g id=\"node5\" class=\"node\">\n",
       "<title>2934</title>\n",
       "<ellipse fill=\"none\" stroke=\"black\" cx=\"411.04\" cy=\"-105\" rx=\"53.89\" ry=\"18\"/>\n",
       "<text text-anchor=\"middle\" x=\"411.04\" y=\"-101.3\" font-family=\"Times,serif\" font-size=\"14.00\">Vladivostok</text>\n",
       "</g>\n",
       "<!-- 3377&#45;&gt;2934 -->\n",
       "<g id=\"edge4\" class=\"edge\">\n",
       "<title>3377&#45;&gt;2934</title>\n",
       "<path fill=\"none\" stroke=\"black\" d=\"M267.3,-179.35C285.28,-173.15 307.14,-164.95 326.04,-156 344.02,-147.48 363.19,-136.4 378.77,-126.83\"/>\n",
       "<polygon fill=\"black\" stroke=\"black\" points=\"380.85,-129.66 387.49,-121.4 377.15,-123.72 380.85,-129.66\"/>\n",
       "<text text-anchor=\"middle\" x=\"367.54\" y=\"-144.8\" font-family=\"Times,serif\" font-size=\"14.00\">KOR</text>\n",
       "</g>\n",
       "<!-- 3304&#45;&gt;3377 -->\n",
       "<g id=\"edge5\" class=\"edge\">\n",
       "<title>3304&#45;&gt;3377</title>\n",
       "<path fill=\"none\" stroke=\"black\" d=\"M78.26,-122.9C88.78,-133.69 103.63,-147.26 119.04,-156 137.46,-166.45 159.39,-174.18 178.94,-179.68\"/>\n",
       "<polygon fill=\"black\" stroke=\"black\" points=\"178.05,-183.06 188.61,-182.28 179.86,-176.3 178.05,-183.06\"/>\n",
       "<text text-anchor=\"middle\" x=\"133.54\" y=\"-144.8\" font-family=\"Times,serif\" font-size=\"14.00\">KOR</text>\n",
       "</g>\n",
       "<!-- 3364&#45;&gt;3377 -->\n",
       "<g id=\"edge6\" class=\"edge\">\n",
       "<title>3364&#45;&gt;3377</title>\n",
       "<path fill=\"none\" stroke=\"black\" d=\"M192.93,-123.16C196.06,-133.04 200.56,-145.54 206.04,-156 207.81,-159.37 209.87,-162.79 212.03,-166.1\"/>\n",
       "<polygon fill=\"black\" stroke=\"black\" points=\"209.28,-168.29 217.86,-174.51 215.04,-164.3 209.28,-168.29\"/>\n",
       "<text text-anchor=\"middle\" x=\"220.54\" y=\"-144.8\" font-family=\"Times,serif\" font-size=\"14.00\">KOR</text>\n",
       "</g>\n",
       "<!-- 4144&#45;&gt;3377 -->\n",
       "<g id=\"edge7\" class=\"edge\">\n",
       "<title>4144&#45;&gt;3377</title>\n",
       "<path fill=\"none\" stroke=\"black\" d=\"M293.95,-123.41C294.23,-133.62 293.03,-146.37 287.04,-156 283.09,-162.36 277.51,-167.75 271.39,-172.26\"/>\n",
       "<polygon fill=\"black\" stroke=\"black\" points=\"269.27,-169.46 262.81,-177.86 273.1,-175.32 269.27,-169.46\"/>\n",
       "<text text-anchor=\"middle\" x=\"307.54\" y=\"-144.8\" font-family=\"Times,serif\" font-size=\"14.00\">KOR</text>\n",
       "</g>\n",
       "<!-- 2934&#45;&gt;3377 -->\n",
       "<g id=\"edge8\" class=\"edge\">\n",
       "<title>2934&#45;&gt;3377</title>\n",
       "<path fill=\"none\" stroke=\"black\" d=\"M406.56,-123.29C402.84,-134.26 396.43,-147.86 386.04,-156 359.32,-176.94 322.46,-185.84 291.39,-189.43\"/>\n",
       "<polygon fill=\"black\" stroke=\"black\" points=\"290.7,-185.98 281.1,-190.45 291.4,-192.95 290.7,-185.98\"/>\n",
       "<text text-anchor=\"middle\" x=\"413.54\" y=\"-144.8\" font-family=\"Times,serif\" font-size=\"14.00\">KOR</text>\n",
       "</g>\n",
       "<!-- 3069 -->\n",
       "<g id=\"node6\" class=\"node\">\n",
       "<title>3069</title>\n",
       "<ellipse fill=\"none\" stroke=\"black\" cx=\"510.04\" cy=\"-192\" rx=\"50.09\" ry=\"18\"/>\n",
       "<text text-anchor=\"middle\" x=\"510.04\" y=\"-188.3\" font-family=\"Times,serif\" font-size=\"14.00\">Chittagong</text>\n",
       "</g>\n",
       "<!-- 3076 -->\n",
       "<g id=\"node7\" class=\"node\">\n",
       "<title>3076</title>\n",
       "<ellipse fill=\"none\" stroke=\"black\" cx=\"527.04\" cy=\"-105\" rx=\"33.6\" ry=\"18\"/>\n",
       "<text text-anchor=\"middle\" x=\"527.04\" y=\"-101.3\" font-family=\"Times,serif\" font-size=\"14.00\">Dhaka</text>\n",
       "</g>\n",
       "<!-- 3069&#45;&gt;3076 -->\n",
       "<g id=\"edge9\" class=\"edge\">\n",
       "<title>3069&#45;&gt;3076</title>\n",
       "<path fill=\"none\" stroke=\"black\" d=\"M493.95,-174.89C486.22,-165.14 479.69,-152.43 485.04,-141 487.79,-135.13 492.06,-129.91 496.84,-125.4\"/>\n",
       "<polygon fill=\"black\" stroke=\"black\" points=\"499.19,-128 504.64,-118.91 494.71,-122.62 499.19,-128\"/>\n",
       "<text text-anchor=\"middle\" x=\"500.04\" y=\"-144.8\" font-family=\"Times,serif\" font-size=\"14.00\">VKH</text>\n",
       "</g>\n",
       "<!-- 3076&#45;&gt;3069 -->\n",
       "<g id=\"edge11\" class=\"edge\">\n",
       "<title>3076&#45;&gt;3069</title>\n",
       "<path fill=\"none\" stroke=\"black\" d=\"M523.61,-123.18C521.28,-134.81 518.16,-150.42 515.5,-163.73\"/>\n",
       "<polygon fill=\"black\" stroke=\"black\" points=\"512.01,-163.31 513.48,-173.8 518.88,-164.68 512.01,-163.31\"/>\n",
       "<text text-anchor=\"middle\" x=\"535.04\" y=\"-144.8\" font-family=\"Times,serif\" font-size=\"14.00\">VKH</text>\n",
       "</g>\n",
       "<!-- 3068 -->\n",
       "<g id=\"node8\" class=\"node\">\n",
       "<title>3068</title>\n",
       "<ellipse fill=\"none\" stroke=\"black\" cx=\"414.04\" cy=\"-18\" rx=\"53.09\" ry=\"18\"/>\n",
       "<text text-anchor=\"middle\" x=\"414.04\" y=\"-14.3\" font-family=\"Times,serif\" font-size=\"14.00\">Cox&#39;s Bazar</text>\n",
       "</g>\n",
       "<!-- 3076&#45;&gt;3068 -->\n",
       "<g id=\"edge12\" class=\"edge\">\n",
       "<title>3076&#45;&gt;3068</title>\n",
       "<path fill=\"none\" stroke=\"black\" d=\"M498.72,-94.89C490.74,-92.33 482.06,-89.55 474.04,-87 448.73,-78.94 433.38,-89.95 417.04,-69 412.06,-62.61 410.31,-54.25 410.09,-46.2\"/>\n",
       "<polygon fill=\"black\" stroke=\"black\" points=\"413.6,-46.13 410.56,-35.98 406.61,-45.81 413.6,-46.13\"/>\n",
       "<text text-anchor=\"middle\" x=\"432.04\" y=\"-57.8\" font-family=\"Times,serif\" font-size=\"14.00\">VKH</text>\n",
       "</g>\n",
       "<!-- 3071 -->\n",
       "<g id=\"node9\" class=\"node\">\n",
       "<title>3071</title>\n",
       "<ellipse fill=\"none\" stroke=\"black\" cx=\"532.04\" cy=\"-18\" rx=\"36.29\" ry=\"18\"/>\n",
       "<text text-anchor=\"middle\" x=\"532.04\" y=\"-14.3\" font-family=\"Times,serif\" font-size=\"14.00\">Jessore</text>\n",
       "</g>\n",
       "<!-- 3076&#45;&gt;3071 -->\n",
       "<g id=\"edge13\" class=\"edge\">\n",
       "<title>3076&#45;&gt;3071</title>\n",
       "<path fill=\"none\" stroke=\"black\" d=\"M512,-88.63C504.39,-78.93 497.6,-66.02 502.04,-54 503.58,-49.86 505.84,-45.88 508.45,-42.19\"/>\n",
       "<polygon fill=\"black\" stroke=\"black\" points=\"511.4,-44.11 514.98,-34.13 505.96,-39.7 511.4,-44.11\"/>\n",
       "<text text-anchor=\"middle\" x=\"517.04\" y=\"-57.8\" font-family=\"Times,serif\" font-size=\"14.00\">VKH</text>\n",
       "</g>\n",
       "<!-- 3074 -->\n",
       "<g id=\"node10\" class=\"node\">\n",
       "<title>3074</title>\n",
       "<ellipse fill=\"none\" stroke=\"black\" cx=\"655.04\" cy=\"-18\" rx=\"63.89\" ry=\"18\"/>\n",
       "<text text-anchor=\"middle\" x=\"655.04\" y=\"-14.3\" font-family=\"Times,serif\" font-size=\"14.00\">Sylhet Osmani</text>\n",
       "</g>\n",
       "<!-- 3076&#45;&gt;3074 -->\n",
       "<g id=\"edge14\" class=\"edge\">\n",
       "<title>3076&#45;&gt;3074</title>\n",
       "<path fill=\"none\" stroke=\"black\" d=\"M547.33,-90.53C567.67,-77.02 599.3,-56.02 623.03,-40.26\"/>\n",
       "<polygon fill=\"black\" stroke=\"black\" points=\"624.98,-43.16 631.38,-34.72 621.11,-37.33 624.98,-43.16\"/>\n",
       "<text text-anchor=\"middle\" x=\"614.04\" y=\"-57.8\" font-family=\"Times,serif\" font-size=\"14.00\">VKH</text>\n",
       "</g>\n",
       "<!-- 3068&#45;&gt;3076 -->\n",
       "<g id=\"edge10\" class=\"edge\">\n",
       "<title>3068&#45;&gt;3076</title>\n",
       "<path fill=\"none\" stroke=\"black\" d=\"M429.43,-35.33C439.59,-45.62 453.47,-58.85 467.04,-69 475.59,-75.39 485.4,-81.55 494.57,-86.87\"/>\n",
       "<polygon fill=\"black\" stroke=\"black\" points=\"493.04,-90.02 503.47,-91.88 496.48,-83.92 493.04,-90.02\"/>\n",
       "<text text-anchor=\"middle\" x=\"482.04\" y=\"-57.8\" font-family=\"Times,serif\" font-size=\"14.00\">VKH</text>\n",
       "</g>\n",
       "<!-- 3071&#45;&gt;3076 -->\n",
       "<g id=\"edge15\" class=\"edge\">\n",
       "<title>3071&#45;&gt;3076</title>\n",
       "<path fill=\"none\" stroke=\"black\" d=\"M532.64,-36.15C532.83,-45.81 532.82,-58.09 532.04,-69 531.86,-71.57 531.6,-74.24 531.3,-76.91\"/>\n",
       "<polygon fill=\"black\" stroke=\"black\" points=\"527.81,-76.59 529.97,-86.96 534.75,-77.51 527.81,-76.59\"/>\n",
       "<text text-anchor=\"middle\" x=\"548.04\" y=\"-57.8\" font-family=\"Times,serif\" font-size=\"14.00\">VKH</text>\n",
       "</g>\n",
       "<!-- 3074&#45;&gt;3076 -->\n",
       "<g id=\"edge16\" class=\"edge\">\n",
       "<title>3074&#45;&gt;3076</title>\n",
       "<path fill=\"none\" stroke=\"black\" d=\"M651.23,-36.42C648.04,-47.15 642.45,-60.45 633.04,-69 615.66,-84.79 590.99,-93.48 569.82,-98.24\"/>\n",
       "<polygon fill=\"black\" stroke=\"black\" points=\"568.86,-94.87 559.75,-100.28 570.25,-101.73 568.86,-94.87\"/>\n",
       "<text text-anchor=\"middle\" x=\"659.04\" y=\"-57.8\" font-family=\"Times,serif\" font-size=\"14.00\">VKH</text>\n",
       "</g>\n",
       "</g>\n",
       "</svg>\n"
      ],
      "text/plain": [
       "<graphviz.graphs.Digraph at 0x7f47846bf050>"
      ]
     },
     "execution_count": 122,
     "metadata": {},
     "output_type": "execute_result"
    }
   ],
   "source": [
    "Gplot"
   ]
  },
  {
   "cell_type": "code",
   "execution_count": null,
   "id": "18d5ce35-8375-4f07-837d-9596c88ca4ff",
   "metadata": {},
   "outputs": [],
   "source": []
  }
 ],
 "metadata": {
  "kernelspec": {
   "display_name": "GraphFrames (Yarn)",
   "language": "python",
   "name": "graphframe_yarn"
  },
  "language_info": {
   "codemirror_mode": {
    "name": "ipython",
    "version": 3
   },
   "file_extension": ".py",
   "mimetype": "text/x-python",
   "name": "python",
   "nbconvert_exporter": "python",
   "pygments_lexer": "ipython3",
   "version": "3.7.12"
  }
 },
 "nbformat": 4,
 "nbformat_minor": 5
}
