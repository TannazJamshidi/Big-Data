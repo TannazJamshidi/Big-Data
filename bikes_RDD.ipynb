{
 "cells": [
  {
   "cell_type": "code",
   "execution_count": 1,
   "id": "b17aee8a-b847-4e38-b411-53b1891ee18e",
   "metadata": {},
   "outputs": [],
   "source": [
    "inputPath1 = \"/data/students/bigdata_internet/lab3/register.csv\""
   ]
  },
  {
   "cell_type": "code",
   "execution_count": 2,
   "id": "bc23d4bd-98a3-4ca1-b874-d6e7e7f13a61",
   "metadata": {},
   "outputs": [],
   "source": [
    "inputPath2 = \"/data/students/bigdata_internet/lab3/stations.csv\""
   ]
  },
  {
   "cell_type": "code",
   "execution_count": 3,
   "id": "2b6aceb5-1d6f-45a4-9f62-a2243285fdf4",
   "metadata": {},
   "outputs": [],
   "source": [
    "rdd = sc.textFile(inputPath1)"
   ]
  },
  {
   "cell_type": "code",
   "execution_count": 4,
   "id": "3772730e-9669-46cd-8ca3-7cdbd0824ed4",
   "metadata": {},
   "outputs": [
    {
     "name": "stderr",
     "output_type": "stream",
     "text": [
      "                                                                                \r"
     ]
    }
   ],
   "source": [
    "header = rdd.first()"
   ]
  },
  {
   "cell_type": "code",
   "execution_count": 5,
   "id": "6a4e1e5e-a139-4185-a100-226dc88db476",
   "metadata": {},
   "outputs": [],
   "source": [
    "new_rdd = rdd.filter(lambda x: x!= header)"
   ]
  },
  {
   "cell_type": "code",
   "execution_count": 6,
   "id": "27fec85c-011d-49f4-887c-f0f8395710ef",
   "metadata": {},
   "outputs": [],
   "source": [
    "Register = new_rdd.map(lambda line : line.split(\"\\t\"))"
   ]
  },
  {
   "cell_type": "code",
   "execution_count": 7,
   "id": "24a65ad4-fb8e-43d9-aa69-57c9d608f5c4",
   "metadata": {},
   "outputs": [],
   "source": [
    "#1.1.1 number of all rdds without any filter"
   ]
  },
  {
   "cell_type": "code",
   "execution_count": 8,
   "id": "684b592a-a611-4b8d-9483-6a8734caa22e",
   "metadata": {},
   "outputs": [
    {
     "name": "stderr",
     "output_type": "stream",
     "text": [
      "                                                                                \r"
     ]
    },
    {
     "data": {
      "text/plain": [
       "25319028"
      ]
     },
     "execution_count": 8,
     "metadata": {},
     "output_type": "execute_result"
    }
   ],
   "source": [
    "Register.count()"
   ]
  },
  {
   "cell_type": "code",
   "execution_count": 9,
   "id": "91f3afe8-39f9-44d7-bd5b-0e19108b1844",
   "metadata": {},
   "outputs": [],
   "source": [
    "condition = lambda x:not (x[2] == '0' and x[3]== '0')"
   ]
  },
  {
   "cell_type": "code",
   "execution_count": 10,
   "id": "e3ebadc2-2514-4f33-836d-e9e83b2e5dde",
   "metadata": {},
   "outputs": [],
   "source": [
    "filteredRdd = Register.filter(condition)"
   ]
  },
  {
   "cell_type": "code",
   "execution_count": 11,
   "id": "9754c469-4ce3-46da-80c3-96a30d847e5f",
   "metadata": {},
   "outputs": [],
   "source": [
    "#1.1.1 number of rdds after removing wrong data due to temporary problems of the monitoring system"
   ]
  },
  {
   "cell_type": "code",
   "execution_count": 12,
   "id": "6b134f9f-c6bd-4054-a63b-8c48e6aacf23",
   "metadata": {},
   "outputs": [
    {
     "name": "stderr",
     "output_type": "stream",
     "text": [
      "                                                                                \r"
     ]
    },
    {
     "data": {
      "text/plain": [
       "25104121"
      ]
     },
     "execution_count": 12,
     "metadata": {},
     "output_type": "execute_result"
    }
   ],
   "source": [
    "filteredRdd.count()"
   ]
  },
  {
   "cell_type": "code",
   "execution_count": 13,
   "id": "dd9a55f4-5792-4add-8003-6bc29895cea6",
   "metadata": {},
   "outputs": [],
   "source": [
    "# change to timeslot(day of week and hour) Tj"
   ]
  },
  {
   "cell_type": "code",
   "execution_count": 14,
   "id": "6fefb0eb-56e9-4f93-9e4e-cbf0fd5bc322",
   "metadata": {},
   "outputs": [],
   "source": [
    "from datetime import datetime\n",
    "\n",
    "def changeToDay(timestamp, line):\n",
    "    f = datetime.strptime(timestamp, \"%Y-%m-%d %H:%M:%S\")\n",
    "    weekDay = f.strftime(\"%A\")  # %A gives the full weekday name\n",
    "    hour = f.hour\n",
    "    return [line[0], (weekDay, hour), line[2], line[3]]"
   ]
  },
  {
   "cell_type": "code",
   "execution_count": 15,
   "id": "50315fd7-eda3-4761-9c91-369b59213d56",
   "metadata": {},
   "outputs": [],
   "source": [
    "formattedRdd = filteredRdd.map(lambda x: changeToDay(x[1],x))"
   ]
  },
  {
   "cell_type": "code",
   "execution_count": 16,
   "id": "d88e2d20-35dd-43fe-ab29-984fffa5ec9a",
   "metadata": {},
   "outputs": [],
   "source": [
    "stations = formattedRdd.map(lambda x : ((x[0],x[1]),1))"
   ]
  },
  {
   "cell_type": "code",
   "execution_count": 17,
   "id": "5d453200-68d8-4d07-9ad4-d77c896a8563",
   "metadata": {},
   "outputs": [],
   "source": [
    "aggStations= stations.reduceByKey(lambda v1, v2: v1+v2)"
   ]
  },
  {
   "cell_type": "code",
   "execution_count": 18,
   "id": "52a027ac-be21-42f1-8f7a-33080dd8585a",
   "metadata": {},
   "outputs": [],
   "source": [
    "criticalStations = formattedRdd.filter(lambda x: x[3] == '0')"
   ]
  },
  {
   "cell_type": "code",
   "execution_count": 19,
   "id": "1b76d1dd-55ce-4c03-8027-79d798702960",
   "metadata": {},
   "outputs": [],
   "source": [
    "a = criticalStations.map(lambda x : ((x[0],x[1]),1))"
   ]
  },
  {
   "cell_type": "code",
   "execution_count": 20,
   "id": "09f2951b-1d4f-4485-8c3b-0ff48a1c50c9",
   "metadata": {},
   "outputs": [],
   "source": [
    "SiTj = a.reduceByKey(lambda v1, v2: v1+v2)"
   ]
  },
  {
   "cell_type": "code",
   "execution_count": 21,
   "id": "3a2b8036-1c25-4735-aa94-91d0f7368722",
   "metadata": {},
   "outputs": [],
   "source": [
    "joinPairRdd = aggStations.join(SiTj)"
   ]
  },
  {
   "cell_type": "code",
   "execution_count": 22,
   "id": "a6ce1a84-1c40-4b63-8904-571712b95eb6",
   "metadata": {},
   "outputs": [],
   "source": [
    "Csitj = joinPairRdd.map(lambda x: ((x[0], x[1]), x[1][1] / x[1][0]))"
   ]
  },
  {
   "cell_type": "code",
   "execution_count": 23,
   "id": "f15b8599-182c-494f-a51f-ca36fca1278a",
   "metadata": {},
   "outputs": [
    {
     "name": "stderr",
     "output_type": "stream",
     "text": [
      "                                                                                \r"
     ]
    },
    {
     "data": {
      "text/plain": [
       "[((('108', ('Monday', 18)), (586, 10)), 0.017064846416382253),\n",
       " ((('108', ('Monday', 22)), (596, 37)), 0.06208053691275168),\n",
       " ((('108', ('Tuesday', 1)), (354, 66)), 0.1864406779661017),\n",
       " ((('108', ('Tuesday', 3)), (360, 30)), 0.08333333333333333),\n",
       " ((('108', ('Tuesday', 5)), (570, 59)), 0.10350877192982456)]"
      ]
     },
     "execution_count": 23,
     "metadata": {},
     "output_type": "execute_result"
    }
   ],
   "source": [
    "Csitj.take(5) #2.1 for each pair the criticality value is calculated"
   ]
  },
  {
   "cell_type": "code",
   "execution_count": 24,
   "id": "3fccec62-036d-4d1e-a6c3-ebf01d9372cb",
   "metadata": {},
   "outputs": [],
   "source": [
    "sortedCsitj = Csitj.sortBy(lambda x: (x[1], int(x[0][0][0]), x[0][0][1][0], x[0][0][1][1]))\n",
    "#2.3 now orderin them by criticality value,station id,day of week and hour"
   ]
  },
  {
   "cell_type": "code",
   "execution_count": 25,
   "id": "67b3ae23-5d02-4039-bb88-d012e36c0713",
   "metadata": {},
   "outputs": [],
   "source": [
    "aboveThreshold = sortedCsitj.filter(lambda x:x[1]>0.6)"
   ]
  },
  {
   "cell_type": "code",
   "execution_count": 26,
   "id": "c4f3e26b-8c0b-4b33-8d0b-82621297dca0",
   "metadata": {},
   "outputs": [],
   "source": [
    "registerations = aboveThreshold.map(lambda x : [x[0][0][0],(x[0][0][1][0],x[0][0][1][1],x[1])])\n",
    "#2.2 only critical pairs with above minimum criticality threshold(0.6) are selected"
   ]
  },
  {
   "cell_type": "code",
   "execution_count": 27,
   "id": "cb6d6603-7ab6-4ee5-9c6c-1b0b204016a1",
   "metadata": {},
   "outputs": [
    {
     "data": {
      "text/plain": [
       "[['9', ('Friday', 10, 0.6129032258064516)],\n",
       " ['10', ('Saturday', 0, 0.622107969151671)],\n",
       " ['58', ('Monday', 1, 0.6239554317548747)],\n",
       " ['9', ('Friday', 22, 0.6258389261744967)],\n",
       " ['58', ('Monday', 0, 0.6323119777158774)]]"
      ]
     },
     "execution_count": 27,
     "metadata": {},
     "output_type": "execute_result"
    }
   ],
   "source": [
    "registerations.collect()"
   ]
  },
  {
   "cell_type": "code",
   "execution_count": 28,
   "id": "907eade9-ff85-4428-9a4d-7c9b7442129a",
   "metadata": {},
   "outputs": [],
   "source": [
    "rdd_location = sc.textFile(inputPath2)\n",
    "header2 = rdd_location.first()\n",
    "new_rdd2 = rdd_location.filter(lambda x: x!= header2)\n",
    "Register2 = new_rdd2.map(lambda line : line.split(\"\\t\"))"
   ]
  },
  {
   "cell_type": "code",
   "execution_count": 29,
   "id": "2a714462-b82a-45a1-bc45-3142258984bb",
   "metadata": {},
   "outputs": [
    {
     "data": {
      "text/plain": [
       "[['1', '2.180019', '41.397978', 'Gran Via Corts Catalanes'],\n",
       " ['2', '2.176414', '41.394381', 'Plaza TetuÃ¡n'],\n",
       " ['3', '2.181164', '41.393750', 'Ali Bei'],\n",
       " ['4', '2.181400', '41.393364', 'Ribes'],\n",
       " ['5', '2.180214', '41.391072', 'Pg LluÃ\\xads Companys']]"
      ]
     },
     "execution_count": 29,
     "metadata": {},
     "output_type": "execute_result"
    }
   ],
   "source": [
    "Register2.take(5)"
   ]
  },
  {
   "cell_type": "code",
   "execution_count": 30,
   "id": "e4685257-610e-4cb8-b9ae-a58503efb53b",
   "metadata": {},
   "outputs": [],
   "source": [
    "PairRDDregister = Register2.map(lambda x: (x[0],(x[1],x[2],x[3])))"
   ]
  },
  {
   "cell_type": "code",
   "execution_count": 31,
   "id": "7aaef9d2-92eb-4482-aeb2-a1f16c6a35e9",
   "metadata": {},
   "outputs": [],
   "source": [
    "joined=registerations.join(PairRDDregister)"
   ]
  },
  {
   "cell_type": "code",
   "execution_count": 32,
   "id": "5f03fbe3-8279-4b36-bacc-e3f0e77c1d9d",
   "metadata": {},
   "outputs": [],
   "source": [
    "final = joined.sortBy(lambda x: x[1][0][2])"
   ]
  },
  {
   "cell_type": "code",
   "execution_count": null,
   "id": "355d8d41-6a00-41a4-b5d3-abd317ebe393",
   "metadata": {},
   "outputs": [],
   "source": [
    "final"
   ]
  },
  {
   "cell_type": "code",
   "execution_count": 33,
   "id": "f4f814c7-85df-496e-87bb-3cf9b07af480",
   "metadata": {
    "tags": []
   },
   "outputs": [],
   "source": [
    "#2.4 storing them with header and columns are separated by tab"
   ]
  },
  {
   "cell_type": "code",
   "execution_count": 34,
   "id": "03a9db0b-cea6-41ce-b130-f5fe42213171",
   "metadata": {},
   "outputs": [],
   "source": [
    "formatted_rdd = final.map(lambda x: \"\\t\".join([\n",
    "    x[0],                           # station\n",
    "    x[1][0][0],                      # day of week\n",
    "    str(x[1][0][1]),                 # hour\n",
    "    str(x[1][0][2]),                 # criticality value\n",
    "    x[1][1][0],                      # station longitude\n",
    "    x[1][1][1],                      # station latitude\n",
    "    x[1][1][2]                       # station name\n",
    "]))"
   ]
  },
  {
   "cell_type": "code",
   "execution_count": 40,
   "id": "a0f4d462-3731-4105-b441-2c6c83228faa",
   "metadata": {},
   "outputs": [
    {
     "name": "stderr",
     "output_type": "stream",
     "text": [
      "                                                                                \r"
     ]
    },
    {
     "data": {
      "text/plain": [
       "[\"9\\tFriday\\t10\\t0.6129032258064516\\t2.185294\\t41.385006\\tMarquÃ¨s de l\\\\'Argentera\",\n",
       " '10\\tSaturday\\t0\\t0.622107969151671\\t2.185206\\t41.384875\\tAvinguda del Marques Argentera',\n",
       " '58\\tMonday\\t1\\t0.6239554317548747\\t2.170736\\t41.377536\\tSant Oleguer',\n",
       " \"9\\tFriday\\t22\\t0.6258389261744967\\t2.185294\\t41.385006\\tMarquÃ¨s de l\\\\'Argentera\",\n",
       " '58\\tMonday\\t0\\t0.6323119777158774\\t2.170736\\t41.377536\\tSant Oleguer']"
      ]
     },
     "execution_count": 40,
     "metadata": {},
     "output_type": "execute_result"
    }
   ],
   "source": [
    "formatted_rdd.collect()"
   ]
  },
  {
   "cell_type": "code",
   "execution_count": 35,
   "id": "419ea2e1-8ee7-4aad-a1d1-7727ee26b767",
   "metadata": {},
   "outputs": [],
   "source": [
    "outputFile = \"/user/s310279/lab3/outPutByRDD\""
   ]
  },
  {
   "cell_type": "code",
   "execution_count": 36,
   "id": "4ed7a4f1-2846-4035-9619-e60e3c969ae5",
   "metadata": {},
   "outputs": [],
   "source": [
    "header2write = \"station\\tstation longitude\\tstation latitude\\tday of week\\thour\\tcriticality value\""
   ]
  },
  {
   "cell_type": "code",
   "execution_count": 37,
   "id": "2f605f7f-704d-4984-9407-212db9f824b9",
   "metadata": {},
   "outputs": [],
   "source": [
    "final_rdd = formatted_rdd.mapPartitions(lambda iterator: [header2write] + list(iterator))"
   ]
  },
  {
   "cell_type": "code",
   "execution_count": 41,
   "id": "81cc683f-8464-4881-89fb-b141640faa4c",
   "metadata": {},
   "outputs": [
    {
     "name": "stderr",
     "output_type": "stream",
     "text": [
      "                                                                                \r"
     ]
    }
   ],
   "source": [
    "final_rdd.saveAsTextFile(outputFile)"
   ]
  },
  {
   "cell_type": "code",
   "execution_count": null,
   "id": "9fd2cde6-74ca-4342-ad42-4354b1271ca6",
   "metadata": {},
   "outputs": [],
   "source": []
  }
 ],
 "metadata": {
  "kernelspec": {
   "display_name": "PySpark (Yarn)",
   "language": "python",
   "name": "pyspark_yarn"
  },
  "language_info": {
   "codemirror_mode": {
    "name": "ipython",
    "version": 3
   },
   "file_extension": ".py",
   "mimetype": "text/x-python",
   "name": "python",
   "nbconvert_exporter": "python",
   "pygments_lexer": "ipython3",
   "version": "3.7.12"
  }
 },
 "nbformat": 4,
 "nbformat_minor": 5
}
